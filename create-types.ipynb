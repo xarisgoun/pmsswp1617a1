{
 "cells": [
  {
   "cell_type": "code",
   "execution_count": 9,
   "metadata": {
    "collapsed": false
   },
   "outputs": [
    {
     "name": "stdout",
     "output_type": "stream",
     "text": [
      "[['_:0', 'http://dilab77.ionio.gr/swp/gounarop/vocab#@:Εξάμηνο', 'http://dilab77.ionio.gr/swp/gounarop/resource/2'], ['_:0', 'http://dilab77.ionio.gr/swp/gounarop/vocab#@:Διάλεξη', 'http://dilab77.ionio.gr/swp/gounarop/resource/3'], ['_:0', 'http://dilab77.ionio.gr/swp/gounarop/vocab#@:Ωρα%20Εναρξης', '#:15:00'], ['_:0', 'http://dilab77.ionio.gr/swp/gounarop/vocab#@:Ωρα%20Ληξης', '#:18:00'], ['_:0', 'http://dilab77.ionio.gr/swp/gounarop/vocab#@:Μερα', 'http://dilab77.ionio.gr/swp/gounarop/resource/Τριτη'], ['_:1', 'http://dilab77.ionio.gr/swp/gounarop/vocab#@:Καθηγητής', 'http://dilab77.ionio.gr/swp/gounarop/resource/Αυλωνίτης'], ['_:1', 'http://dilab77.ionio.gr/swp/gounarop/vocab#@:Μάθημα', 'http://dilab77.ionio.gr/swp/gounarop/resource/Μοντελοποίηση'], ['_:1', 'http://dilab77.ionio.gr/swp/gounarop/vocab#@:Αίθουσα', 'http://dilab77.ionio.gr/swp/gounarop/resource/1'], ['_:1', 'http://dilab77.ionio.gr/swp/gounarop/vocab#@:Εξάμηνο', 'http://dilab77.ionio.gr/swp/gounarop/resource/2'], ['_:1', 'http://dilab77.ionio.gr/swp/gounarop/vocab#@:Διάλεξη', 'http://dilab77.ionio.gr/swp/gounarop/resource/3'], ['_:1', 'http://dilab77.ionio.gr/swp/gounarop/vocab#@:Ωρα%20Εναρξης', '#:18:00'], ['_:1', 'http://dilab77.ionio.gr/swp/gounarop/vocab#@:Ωρα%20Ληξης', '#:21:00'], ['_:1', 'http://dilab77.ionio.gr/swp/gounarop/vocab#@:Μερα', 'http://dilab77.ionio.gr/swp/gounarop/resource/Τριτη'], ['_:2', 'http://dilab77.ionio.gr/swp/gounarop/vocab#@:Καθηγητής', 'http://dilab77.ionio.gr/swp/gounarop/resource/Οικονόμου'], ['_:2', 'http://dilab77.ionio.gr/swp/gounarop/vocab#@:Μάθημα', 'http://dilab77.ionio.gr/swp/gounarop/resource/Ψυχαγωγικό%20Λογισμικό'], ['_:2', 'http://dilab77.ionio.gr/swp/gounarop/vocab#@:Αίθουσα', 'http://dilab77.ionio.gr/swp/gounarop/resource/3'], ['_:2', 'http://dilab77.ionio.gr/swp/gounarop/vocab#@:Εξάμηνο', 'http://dilab77.ionio.gr/swp/gounarop/resource/2'], ['_:2', 'http://dilab77.ionio.gr/swp/gounarop/vocab#@:Διάλεξη', 'http://dilab77.ionio.gr/swp/gounarop/resource/3'], ['_:2', 'http://dilab77.ionio.gr/swp/gounarop/vocab#@:Ωρα%20Εναρξης', '#:14:00'], ['_:2', 'http://dilab77.ionio.gr/swp/gounarop/vocab#@:Ωρα%20Ληξης', '#:17:00'], ['_:2', 'http://dilab77.ionio.gr/swp/gounarop/vocab#@:Μερα', 'http://dilab77.ionio.gr/swp/gounarop/resource/Δευτερα'], ['_:3', 'http://dilab77.ionio.gr/swp/gounarop/vocab#@:Καθηγητής', 'http://dilab77.ionio.gr/swp/gounarop/resource/Μυλωνας'], ['_:3', 'http://dilab77.ionio.gr/swp/gounarop/vocab#@:Μάθημα', 'http://dilab77.ionio.gr/swp/gounarop/resource/Εξόρυξη%20Δεδομένων'], ['_:3', 'http://dilab77.ionio.gr/swp/gounarop/vocab#@:Αίθουσα', 'http://dilab77.ionio.gr/swp/gounarop/resource/1'], ['_:3', 'http://dilab77.ionio.gr/swp/gounarop/vocab#@:Εξάμηνο', 'http://dilab77.ionio.gr/swp/gounarop/resource/2'], ['_:3', 'http://dilab77.ionio.gr/swp/gounarop/vocab#@:Διάλεξη', 'http://dilab77.ionio.gr/swp/gounarop/resource/3'], ['_:3', 'http://dilab77.ionio.gr/swp/gounarop/vocab#@:Ωρα%20Εναρξης', '#:15:00'], ['_:3', 'http://dilab77.ionio.gr/swp/gounarop/vocab#@:Ωρα%20Ληξης', '#:18:00'], ['_:3', 'http://dilab77.ionio.gr/swp/gounarop/vocab#@:Μερα', 'http://dilab77.ionio.gr/swp/gounarop/resource/Πεμπτη'], ['_:4', 'http://dilab77.ionio.gr/swp/gounarop/vocab#@:Καθηγητής', 'http://dilab77.ionio.gr/swp/gounarop/resource/Βλάμος'], ['_:4', 'http://dilab77.ionio.gr/swp/gounarop/vocab#@:Μάθημα', 'http://dilab77.ionio.gr/swp/gounarop/resource/Πληροφορική%20στην%20Εκπαιδευση'], ['_:4', 'http://dilab77.ionio.gr/swp/gounarop/vocab#@:Αίθουσα', 'http://dilab77.ionio.gr/swp/gounarop/resource/2'], ['_:4', 'http://dilab77.ionio.gr/swp/gounarop/vocab#@:Εξάμηνο', 'http://dilab77.ionio.gr/swp/gounarop/resource/2'], ['_:4', 'http://dilab77.ionio.gr/swp/gounarop/vocab#@:Διάλεξη', 'http://dilab77.ionio.gr/swp/gounarop/resource/3'], ['_:4', 'http://dilab77.ionio.gr/swp/gounarop/vocab#@:Ωρα%20Εναρξης', '#:18:00'], ['_:4', 'http://dilab77.ionio.gr/swp/gounarop/vocab#@:Ωρα%20Ληξης', '#:21:00'], ['_:4', 'http://dilab77.ionio.gr/swp/gounarop/vocab#@:Μερα', 'http://dilab77.ionio.gr/swp/gounarop/resource/Πεμπτη']]\n"
     ]
    }
   ],
   "source": [
    "import csv\n",
    "\n",
    "eavlist = []\n",
    "\n",
    "with open('arxeio3.csv','r',newline='') as ifp:\n",
    "    ir = csv.reader(ifp)\n",
    "    headers = next(ir)\n",
    "    \n",
    "    for row in ir:\n",
    "        eavlist.append(row)\n",
    "print(eavlist)"
   ]
  },
  {
   "cell_type": "code",
   "execution_count": 10,
   "metadata": {
    "collapsed": false
   },
   "outputs": [
    {
     "name": "stdout",
     "output_type": "stream",
     "text": [
      "[['_:0', '<http://dilab77.ionio.gr/swp/gounarop/vocab#@:Εξάμηνο>', '<http://dilab77.ionio.gr/swp/gounarop/resource/2>'], ['_:0', '<http://dilab77.ionio.gr/swp/gounarop/vocab#@:Διάλεξη>', '<http://dilab77.ionio.gr/swp/gounarop/resource/3>'], ['_:0', '<http://dilab77.ionio.gr/swp/gounarop/vocab#@:Ωρα%20Εναρξης>', '#:15:00'], ['_:0', '<http://dilab77.ionio.gr/swp/gounarop/vocab#@:Ωρα%20Ληξης>', '#:18:00'], ['_:0', '<http://dilab77.ionio.gr/swp/gounarop/vocab#@:Μερα>', '<http://dilab77.ionio.gr/swp/gounarop/resource/Τριτη>'], ['_:1', '<http://dilab77.ionio.gr/swp/gounarop/vocab#@:Καθηγητής>', '<http://dilab77.ionio.gr/swp/gounarop/resource/Αυλωνίτης>'], ['_:1', '<http://dilab77.ionio.gr/swp/gounarop/vocab#@:Μάθημα>', '<http://dilab77.ionio.gr/swp/gounarop/resource/Μοντελοποίηση>'], ['_:1', '<http://dilab77.ionio.gr/swp/gounarop/vocab#@:Αίθουσα>', '<http://dilab77.ionio.gr/swp/gounarop/resource/1>'], ['_:1', '<http://dilab77.ionio.gr/swp/gounarop/vocab#@:Εξάμηνο>', '<http://dilab77.ionio.gr/swp/gounarop/resource/2>'], ['_:1', '<http://dilab77.ionio.gr/swp/gounarop/vocab#@:Διάλεξη>', '<http://dilab77.ionio.gr/swp/gounarop/resource/3>'], ['_:1', '<http://dilab77.ionio.gr/swp/gounarop/vocab#@:Ωρα%20Εναρξης>', '#:18:00'], ['_:1', '<http://dilab77.ionio.gr/swp/gounarop/vocab#@:Ωρα%20Ληξης>', '#:21:00'], ['_:1', '<http://dilab77.ionio.gr/swp/gounarop/vocab#@:Μερα>', '<http://dilab77.ionio.gr/swp/gounarop/resource/Τριτη>'], ['_:2', '<http://dilab77.ionio.gr/swp/gounarop/vocab#@:Καθηγητής>', '<http://dilab77.ionio.gr/swp/gounarop/resource/Οικονόμου>'], ['_:2', '<http://dilab77.ionio.gr/swp/gounarop/vocab#@:Μάθημα>', '<http://dilab77.ionio.gr/swp/gounarop/resource/Ψυχαγωγικό%20Λογισμικό>'], ['_:2', '<http://dilab77.ionio.gr/swp/gounarop/vocab#@:Αίθουσα>', '<http://dilab77.ionio.gr/swp/gounarop/resource/3>'], ['_:2', '<http://dilab77.ionio.gr/swp/gounarop/vocab#@:Εξάμηνο>', '<http://dilab77.ionio.gr/swp/gounarop/resource/2>'], ['_:2', '<http://dilab77.ionio.gr/swp/gounarop/vocab#@:Διάλεξη>', '<http://dilab77.ionio.gr/swp/gounarop/resource/3>'], ['_:2', '<http://dilab77.ionio.gr/swp/gounarop/vocab#@:Ωρα%20Εναρξης>', '#:14:00'], ['_:2', '<http://dilab77.ionio.gr/swp/gounarop/vocab#@:Ωρα%20Ληξης>', '#:17:00'], ['_:2', '<http://dilab77.ionio.gr/swp/gounarop/vocab#@:Μερα>', '<http://dilab77.ionio.gr/swp/gounarop/resource/Δευτερα>'], ['_:3', '<http://dilab77.ionio.gr/swp/gounarop/vocab#@:Καθηγητής>', '<http://dilab77.ionio.gr/swp/gounarop/resource/Μυλωνας>'], ['_:3', '<http://dilab77.ionio.gr/swp/gounarop/vocab#@:Μάθημα>', '<http://dilab77.ionio.gr/swp/gounarop/resource/Εξόρυξη%20Δεδομένων>'], ['_:3', '<http://dilab77.ionio.gr/swp/gounarop/vocab#@:Αίθουσα>', '<http://dilab77.ionio.gr/swp/gounarop/resource/1>'], ['_:3', '<http://dilab77.ionio.gr/swp/gounarop/vocab#@:Εξάμηνο>', '<http://dilab77.ionio.gr/swp/gounarop/resource/2>'], ['_:3', '<http://dilab77.ionio.gr/swp/gounarop/vocab#@:Διάλεξη>', '<http://dilab77.ionio.gr/swp/gounarop/resource/3>'], ['_:3', '<http://dilab77.ionio.gr/swp/gounarop/vocab#@:Ωρα%20Εναρξης>', '#:15:00'], ['_:3', '<http://dilab77.ionio.gr/swp/gounarop/vocab#@:Ωρα%20Ληξης>', '#:18:00'], ['_:3', '<http://dilab77.ionio.gr/swp/gounarop/vocab#@:Μερα>', '<http://dilab77.ionio.gr/swp/gounarop/resource/Πεμπτη>'], ['_:4', '<http://dilab77.ionio.gr/swp/gounarop/vocab#@:Καθηγητής>', '<http://dilab77.ionio.gr/swp/gounarop/resource/Βλάμος>'], ['_:4', '<http://dilab77.ionio.gr/swp/gounarop/vocab#@:Μάθημα>', '<http://dilab77.ionio.gr/swp/gounarop/resource/Πληροφορική%20στην%20Εκπαιδευση>'], ['_:4', '<http://dilab77.ionio.gr/swp/gounarop/vocab#@:Αίθουσα>', '<http://dilab77.ionio.gr/swp/gounarop/resource/2>'], ['_:4', '<http://dilab77.ionio.gr/swp/gounarop/vocab#@:Εξάμηνο>', '<http://dilab77.ionio.gr/swp/gounarop/resource/2>'], ['_:4', '<http://dilab77.ionio.gr/swp/gounarop/vocab#@:Διάλεξη>', '<http://dilab77.ionio.gr/swp/gounarop/resource/3>'], ['_:4', '<http://dilab77.ionio.gr/swp/gounarop/vocab#@:Ωρα%20Εναρξης>', '#:18:00'], ['_:4', '<http://dilab77.ionio.gr/swp/gounarop/vocab#@:Ωρα%20Ληξης>', '#:21:00'], ['_:4', '<http://dilab77.ionio.gr/swp/gounarop/vocab#@:Μερα>', '<http://dilab77.ionio.gr/swp/gounarop/resource/Πεμπτη>']]\n"
     ]
    }
   ],
   "source": [
    "newtriple=[]\n",
    "\n",
    "for s,p,o in eavlist:\n",
    "    p='<'+p+'>'\n",
    "    if o.startswith('http'):\n",
    "        o='<'+o+'>'\n",
    "    \n",
    "    if p=='http://dilab77.ionio.gr/swp/gounarop/vocab@#:Μερα': \n",
    "        o='\"'+o[2:]+'\"'\n",
    "    if p=='http://dilab77.ionio.gr/swp/gounarop/vocab@#:Εξάμηνο':    \n",
    "        o='\"'+o[-2:]+'\"'\n",
    "    if p in ('http://dilab77.ionio.gr/swp/gounarop/vocab#@:Ωρα%20Εναρξης','http://dilab77.ionio.gr/swp/gounarop/vocab#@:Ωρα%20Ληξης'):\n",
    "        o='\"0'+o[2:]+':00:00'+'\"^^http://www.w3.org/2001/XMLSchema#double>'\n",
    "        \n",
    "    newtriple.append([s,p,o])\n",
    "\n",
    "print(newtriple)"
   ]
  },
  {
   "cell_type": "code",
   "execution_count": 13,
   "metadata": {
    "collapsed": false
   },
   "outputs": [
    {
     "name": "stdout",
     "output_type": "stream",
     "text": [
      "_:0 <http://www.w3.org/1999/02/22-rdf-syntax-ns#type> <http://dilab77.ionio.gr/swp/gounarop/vocab#@:Διάλεξη>\n",
      "_:1 <http://www.w3.org/1999/02/22-rdf-syntax-ns#type> <http://dilab77.ionio.gr/swp/gounarop/vocab#@:Διάλεξη>\n",
      "_:1 <http://www.w3.org/1999/02/22-rdf-syntax-ns#type> <http://dilab77.ionio.gr/swp/gounarop/vocab#@:Teacher> .\n",
      "\n",
      "_:1 <http://www.w3.org/1999/02/22-rdf-syntax-ns#type> <http://dilab77.ionio.gr/swp/gounarop/vocab#@:Course> .\n",
      "\n",
      "_:1 <http://www.w3.org/1999/02/22-rdf-syntax-ns#type> <http://dilab77.ionio.gr/swp/gounarop/vocab#@:Room> .\n",
      "\n",
      "_:2 <http://www.w3.org/1999/02/22-rdf-syntax-ns#type> <http://dilab77.ionio.gr/swp/gounarop/vocab#@:Διάλεξη>\n",
      "_:2 <http://www.w3.org/1999/02/22-rdf-syntax-ns#type> <http://dilab77.ionio.gr/swp/gounarop/vocab#@:Teacher> .\n",
      "\n",
      "_:2 <http://www.w3.org/1999/02/22-rdf-syntax-ns#type> <http://dilab77.ionio.gr/swp/gounarop/vocab#@:Course> .\n",
      "\n",
      "_:2 <http://www.w3.org/1999/02/22-rdf-syntax-ns#type> <http://dilab77.ionio.gr/swp/gounarop/vocab#@:Room> .\n",
      "\n",
      "_:3 <http://www.w3.org/1999/02/22-rdf-syntax-ns#type> <http://dilab77.ionio.gr/swp/gounarop/vocab#@:Διάλεξη>\n",
      "_:3 <http://www.w3.org/1999/02/22-rdf-syntax-ns#type> <http://dilab77.ionio.gr/swp/gounarop/vocab#@:Teacher> .\n",
      "\n",
      "_:3 <http://www.w3.org/1999/02/22-rdf-syntax-ns#type> <http://dilab77.ionio.gr/swp/gounarop/vocab#@:Course> .\n",
      "\n",
      "_:4 <http://www.w3.org/1999/02/22-rdf-syntax-ns#type> <http://dilab77.ionio.gr/swp/gounarop/vocab#@:Διάλεξη>\n",
      "_:4 <http://www.w3.org/1999/02/22-rdf-syntax-ns#type> <http://dilab77.ionio.gr/swp/gounarop/vocab#@:Teacher> .\n",
      "\n",
      "_:4 <http://www.w3.org/1999/02/22-rdf-syntax-ns#type> <http://dilab77.ionio.gr/swp/gounarop/vocab#@:Course> .\n",
      "\n",
      "_:4 <http://www.w3.org/1999/02/22-rdf-syntax-ns#type> <http://dilab77.ionio.gr/swp/gounarop/vocab#@:Room> .\n",
      "\n"
     ]
    }
   ],
   "source": [
    "visited=set()\n",
    "with open('schedule4.nt','w') as ofp:\n",
    "    for s,p,o in newtriple:\n",
    "        \n",
    "        x='<http://www.w3.org/1999/02/22-rdf-syntax-ns#type>'\n",
    "        if s not in visited and s.startswith('_:'):\n",
    "            visited.add(s)\n",
    "            print(s,x,'<http://dilab77.ionio.gr/swp/gounarop/vocab#@:Διάλεξη>')\n",
    "            ofp.write('{} {} {} .\\n'.format(s,x,'<http://dilab77.ionio.gr/swp/gounarop/vocab#@:Διάλεξη>'))\n",
    "        \n",
    "        if p=='<http://dilab77.ionio.gr/swp/gounarop/vocab#@:Καθηγητής>':\n",
    "            if o not in visited:\n",
    "                visited.add(o)\n",
    "                print('{} {} {} .\\n'.format(s,x,'<http://dilab77.ionio.gr/swp/gounarop/vocab#@:Teacher>'))\n",
    "                ofp.write('{} {} {} .\\n'.format(s,x,'<http://dilab77.ionio.gr/swp/gounarop/vocab#@:Teacher>'))\n",
    "                      \n",
    "        if p=='<http://dilab77.ionio.gr/swp/gounarop/vocab#@:Αίθουσα>':\n",
    "            if o not in visited:\n",
    "                visited.add(o)\n",
    "                print('{} {} {} .\\n'.format(s,x,'<http://dilab77.ionio.gr/swp/gounarop/vocab#@:Room>'))\n",
    "                ofp.write('{} {} {} .\\n'.format(s,x,'<http://dilab77.ionio.gr/swp/gounarop/vocab#@:Room>'))\n",
    "                \n",
    "        if p=='<http://dilab77.ionio.gr/swp/gounarop/vocab#@:Μάθημα>':\n",
    "            if o not in visited:\n",
    "                visited.add(o)\n",
    "                print('{} {} {} .\\n'.format(s,x,'<http://dilab77.ionio.gr/swp/gounarop/vocab#@:Course>'))\n",
    "                ofp.write('{} {} {} .\\n'.format(s,x,'<http://dilab77.ionio.gr/swp/gounarop/vocab#@:Course>'))\n",
    "                "
   ]
  },
  {
   "cell_type": "code",
   "execution_count": 14,
   "metadata": {
    "collapsed": true
   },
   "outputs": [],
   "source": [
    "!riot --validate turtle.ttl"
   ]
  },
  {
   "cell_type": "code",
   "execution_count": null,
   "metadata": {
    "collapsed": true
   },
   "outputs": [],
   "source": []
  }
 ],
 "metadata": {
  "kernelspec": {
   "display_name": "Python 3",
   "language": "python",
   "name": "python3"
  },
  "language_info": {
   "codemirror_mode": {
    "name": "ipython",
    "version": 3
   },
   "file_extension": ".py",
   "mimetype": "text/x-python",
   "name": "python",
   "nbconvert_exporter": "python",
   "pygments_lexer": "ipython3",
   "version": "3.4.4"
  }
 },
 "nbformat": 4,
 "nbformat_minor": 0
}
